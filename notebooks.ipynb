{
 "cells": [
  {
   "cell_type": "code",
   "execution_count": null,
   "id": "5ddd4c8f",
   "metadata": {},
   "outputs": [
    {
     "ename": "",
     "evalue": "",
     "output_type": "error",
     "traceback": [
      "\u001b[1;31mRunning cells with '/bin/python3.11' requires ipykernel package.\n",
      "\u001b[1;31mRun the following command to install 'ipykernel' into the Python environment. \n",
      "\u001b[1;31mCommand: '/bin/python3.11 -m pip install ipykernel -U --user --force-reinstall'"
     ]
    }
   ],
   "source": [
    "import sys\n",
    "sys.version"
   ]
  },
  {
   "cell_type": "code",
   "execution_count": null,
   "id": "fb3ea468",
   "metadata": {},
   "outputs": [],
   "source": [
    "import numpy as np\n",
    "np.__version__\n"
   ]
  },
  {
   "cell_type": "markdown",
   "id": "d6c564eb",
   "metadata": {},
   "source": [
    "### Simple Neuron\n",
    "Neuron computes the product of inputs and weights and add the bias to it and returns the output"
   ]
  },
  {
   "cell_type": "code",
   "execution_count": null,
   "id": "4a0b4ab6",
   "metadata": {},
   "outputs": [],
   "source": [
    "inputs = [1,2,3,2.5]\n",
    "weights = [0.2,0.8,-0.5,1.0]\n",
    "bias = 2"
   ]
  },
  {
   "cell_type": "code",
   "execution_count": null,
   "id": "c62796e1",
   "metadata": {},
   "outputs": [],
   "source": [
    "output = inputs[0]*weights[0] + inputs[1]*weights[1] + inputs[2]*weights[2]\n",
    "output = output + bias\n",
    "print(output)"
   ]
  },
  {
   "cell_type": "code",
   "execution_count": null,
   "id": "7e5beb5f",
   "metadata": {},
   "outputs": [],
   "source": [
    "inputs_array = np.array(inputs)\n",
    "weights_vector = np.array(weights)\n",
    "output_vector = np.dot(inputs_array,weights_vector.T) + bias\n",
    "print(output_vector)"
   ]
  },
  {
   "cell_type": "markdown",
   "id": "d1c27682",
   "metadata": {},
   "source": [
    "### Single Layer\n",
    "A layer computes the product of corresponding inputs and weights and add the corresponding bias to it and returns the output containing an array of output values"
   ]
  },
  {
   "cell_type": "code",
   "execution_count": null,
   "id": "2de79b63",
   "metadata": {},
   "outputs": [],
   "source": [
    "inputs_array = np.array([1,2,3,2.5])\n",
    "\n",
    "weights1_vector = np.array([0.2,0.8,-0.5,1.0])\n",
    "weights2_vector = np.array([0.5,-0.91,0.26,-0.5])\n",
    "weights3_vector = np.array([-0.26,-0.27,0.17,0.87])\n",
    "\n",
    "bias1 = 2\n",
    "bias2 = 3\n",
    "bias3 = 0.5\n",
    "\n",
    "output1 = np.dot(inputs_array,weights1_vector.T) + bias1\n",
    "output2 = np.dot(inputs_array,weights2_vector.T) + bias2\n",
    "output3 = np.dot(inputs_array,weights3_vector.T) + bias3\n",
    "\n",
    "output = [output1,output2,output3]\n",
    "print(output)"
   ]
  },
  {
   "cell_type": "code",
   "execution_count": null,
   "id": "d01b8b8e",
   "metadata": {},
   "outputs": [],
   "source": [
    "weights_vector = np.array([[0.2,0.8,-0.5,1.0],\n",
    "                           [0.5,-0.91,0.26,-0.5],\n",
    "                           [-0.26,-0.27,0.17,0.87]])\n",
    "                          \n",
    "bias_vector = [2,3,0.5]\n",
    "output = np.dot(inputs_array,weights_vector.T) + bias_vector\n",
    "print(output)"
   ]
  },
  {
   "attachments": {},
   "cell_type": "markdown",
   "id": "4d0de777",
   "metadata": {},
   "source": [
    "What if inputs is a matrix instead of an array. "
   ]
  },
  {
   "cell_type": "code",
   "execution_count": null,
   "id": "eaaea7c0",
   "metadata": {},
   "outputs": [],
   "source": [
    "inputs_vector = np.array([[1,2,3,2.5],[2.0,5.0,-1.0,2.0],[-1.5,2.7,3.3,-0.8]])\n",
    "\n",
    "output_vector = np.dot(inputs_vector,weights_vector.T) + bias_vector\n",
    "print(output_vector)"
   ]
  },
  {
   "attachments": {},
   "cell_type": "markdown",
   "id": "069b3561",
   "metadata": {},
   "source": [
    "### Adding a Layer\n",
    "The ouput of the first layer is fed to another layer"
   ]
  },
  {
   "cell_type": "code",
   "execution_count": null,
   "id": "4bce89f9",
   "metadata": {},
   "outputs": [],
   "source": [
    "inputs = np.array([[1,2,3,2.5],\n",
    "                        [2.0,5.0,-1.0,2.0],\n",
    "                        [-1.5,2.7,3.3,-0.8]])\n",
    "\n",
    "weights1 = np.array([[0.2,0.8,-0.5,1.0],\n",
    "                           [0.5,-0.91,0.26,-0.5],\n",
    "                           [-0.26,-0.27,0.17,0.87]])\n",
    "\n",
    "bias1 = np.array([2,3,0.5])\n",
    "\n",
    "weights2 = np.array([[0.1,-0.14,-0.5],\n",
    "                           [-0.5,0.12,-0.33],\n",
    "                           [-0.44,0.73,-0.13]])\n",
    "bias2 = np.array([-1, 2, -0.5])\n",
    "\n",
    "layer1_output = np.dot(inputs,weights1.T) + bias1\n",
    "\n",
    "output = np.dot(layer1_output,weights2.T) + bias2\n",
    "print(output)"
   ]
  },
  {
   "cell_type": "code",
   "execution_count": null,
   "id": "7314f483",
   "metadata": {},
   "outputs": [],
   "source": [
    "X = np.array([  \n",
    "                [1,2,3,2.5],\n",
    "                [2.0,5.0,-1.0,2.0],\n",
    "                [-1.5,2.7,3.3,-0.8]\n",
    "            ])\n",
    "class Layer_Dense:\n",
    "    def __init__(self):\n",
    "        pass\n",
    "    def forward(self):\n",
    "        pass\n",
    "    "
   ]
  }
 ],
 "metadata": {
  "kernelspec": {
   "display_name": "Python 3",
   "language": "python",
   "name": "python3"
  },
  "language_info": {
   "codemirror_mode": {
    "name": "ipython",
    "version": 3
   },
   "file_extension": ".py",
   "mimetype": "text/x-python",
   "name": "python",
   "nbconvert_exporter": "python",
   "pygments_lexer": "ipython3",
   "version": "3.11.1 (main, Dec  7 2022, 01:11:44) [GCC 9.4.0]"
  },
  "vscode": {
   "interpreter": {
    "hash": "ead1b95f633dc9c51826328e1846203f51a198c6fb5f2884a80417ba131d4e82"
   }
  }
 },
 "nbformat": 4,
 "nbformat_minor": 5
}
