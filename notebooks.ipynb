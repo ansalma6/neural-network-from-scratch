{
 "cells": [
  {
   "cell_type": "code",
   "execution_count": 2,
   "id": "5ddd4c8f",
   "metadata": {},
   "outputs": [
    {
     "data": {
      "text/plain": [
       "'3.11.1 (tags/v3.11.1:a7a450f, Dec  6 2022, 19:58:39) [MSC v.1934 64 bit (AMD64)]'"
      ]
     },
     "execution_count": 2,
     "metadata": {},
     "output_type": "execute_result"
    }
   ],
   "source": [
    "import sys\n",
    "sys.version"
   ]
  },
  {
   "cell_type": "code",
   "execution_count": 3,
   "id": "fb3ea468",
   "metadata": {},
   "outputs": [
    {
     "data": {
      "text/plain": [
       "'1.24.1'"
      ]
     },
     "execution_count": 3,
     "metadata": {},
     "output_type": "execute_result"
    }
   ],
   "source": [
    "import numpy as np\n",
    "np.__version__\n"
   ]
  },
  {
   "cell_type": "markdown",
   "id": "d6c564eb",
   "metadata": {},
   "source": [
    "### Simple Neuron\n",
    "Neuron computes the product of inputs and weights and add the bias to it and returns the output"
   ]
  },
  {
   "cell_type": "code",
   "execution_count": 17,
   "id": "4a0b4ab6",
   "metadata": {},
   "outputs": [],
   "source": [
    "inputs = [1,2,3,2.5]\n",
    "weights = [0.2,0.8,-0.5,1.0]\n",
    "bias = 2"
   ]
  },
  {
   "cell_type": "code",
   "execution_count": 18,
   "id": "c62796e1",
   "metadata": {},
   "outputs": [
    {
     "name": "stdout",
     "output_type": "stream",
     "text": [
      "2.3\n"
     ]
    }
   ],
   "source": [
    "output = inputs[0]*weights[0] + inputs[1]*weights[1] + inputs[2]*weights[2]\n",
    "output = output + bias\n",
    "print(output)"
   ]
  },
  {
   "cell_type": "code",
   "execution_count": 31,
   "id": "7e5beb5f",
   "metadata": {},
   "outputs": [
    {
     "name": "stdout",
     "output_type": "stream",
     "text": [
      "4.8\n"
     ]
    }
   ],
   "source": [
    "inputs_array = np.array(inputs)\n",
    "weights_vector = np.array(weights)\n",
    "output_vector = np.dot(inputs_array,weights_vector.T) + bias\n",
    "print(output_vector)"
   ]
  },
  {
   "cell_type": "markdown",
   "id": "d1c27682",
   "metadata": {},
   "source": [
    "### Single Layer\n",
    "A layer computes the product of corresponding inputs and weights and add the corresponding bias to it and returns the output containing an array of output values"
   ]
  },
  {
   "cell_type": "code",
   "execution_count": 32,
   "id": "2de79b63",
   "metadata": {},
   "outputs": [
    {
     "name": "stdout",
     "output_type": "stream",
     "text": [
      "[4.8, 1.21, 2.385]\n"
     ]
    }
   ],
   "source": [
    "inputs_array = np.array([1,2,3,2.5])\n",
    "\n",
    "weights1_vector = np.array([0.2,0.8,-0.5,1.0])\n",
    "weights2_vector = np.array([0.5,-0.91,0.26,-0.5])\n",
    "weights3_vector = np.array([-0.26,-0.27,0.17,0.87])\n",
    "\n",
    "bias1 = 2\n",
    "bias2 = 3\n",
    "bias3 = 0.5\n",
    "\n",
    "output1 = np.dot(inputs_array,weights1_vector.T) + bias1\n",
    "output2 = np.dot(inputs_array,weights2_vector.T) + bias2\n",
    "output3 = np.dot(inputs_array,weights3_vector.T) + bias3\n",
    "\n",
    "output = [output1,output2,output3]\n",
    "print(output)"
   ]
  },
  {
   "cell_type": "code",
   "execution_count": 33,
   "id": "d01b8b8e",
   "metadata": {},
   "outputs": [
    {
     "name": "stdout",
     "output_type": "stream",
     "text": [
      "[4.8   1.21  2.385]\n"
     ]
    }
   ],
   "source": [
    "weights_vector = np.array([[0.2,0.8,-0.5,1.0],\n",
    "                           [0.5,-0.91,0.26,-0.5],\n",
    "                           [-0.26,-0.27,0.17,0.87]])\n",
    "                          \n",
    "bias_vector = [2,3,0.5]\n",
    "output_vector = np.dot(inputs_array,weights_vector.T) + bias_vector\n",
    "print(output_vector)"
   ]
  },
  {
   "attachments": {},
   "cell_type": "markdown",
   "id": "4d0de777",
   "metadata": {},
   "source": [
    "What if inputs is a matrix instead of an array. "
   ]
  },
  {
   "cell_type": "code",
   "execution_count": 34,
   "id": "eaaea7c0",
   "metadata": {},
   "outputs": [
    {
     "name": "stdout",
     "output_type": "stream",
     "text": [
      "[[ 4.8    1.21   2.385]\n",
      " [ 8.9   -1.81   0.2  ]\n",
      " [ 1.41   1.051  0.026]]\n"
     ]
    }
   ],
   "source": [
    "inputs_vector = np.array([[1,2,3,2.5],[2.0,5.0,-1.0,2.0],[-1.5,2.7,3.3,-0.8]])\n",
    "\n",
    "output_vector2 = np.dot(inputs_vector,weights_vector.T) + bias_vector\n",
    "print(output_vector2)"
   ]
  },
  {
   "cell_type": "code",
   "execution_count": null,
   "id": "4bce89f9",
   "metadata": {},
   "outputs": [],
   "source": []
  }
 ],
 "metadata": {
  "kernelspec": {
   "display_name": "Python 3",
   "language": "python",
   "name": "python3"
  },
  "language_info": {
   "codemirror_mode": {
    "name": "ipython",
    "version": 3
   },
   "file_extension": ".py",
   "mimetype": "text/x-python",
   "name": "python",
   "nbconvert_exporter": "python",
   "pygments_lexer": "ipython3",
   "version": "3.11.1"
  },
  "vscode": {
   "interpreter": {
    "hash": "b4f66204569dd889885bb259830a81e55cbc5b3837dfed5f096b37647ecd1c2e"
   }
  }
 },
 "nbformat": 4,
 "nbformat_minor": 5
}
