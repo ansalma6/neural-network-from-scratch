{
 "cells": [
  {
   "cell_type": "code",
   "execution_count": 1,
   "id": "18e2c16d",
   "metadata": {},
   "outputs": [
    {
     "data": {
      "text/plain": [
       "'3.11.1 (tags/v3.11.1:a7a450f, Dec  6 2022, 19:58:39) [MSC v.1934 64 bit (AMD64)]'"
      ]
     },
     "execution_count": 1,
     "metadata": {},
     "output_type": "execute_result"
    }
   ],
   "source": [
    "import sys\n",
    "sys.version"
   ]
  },
  {
   "cell_type": "code",
   "execution_count": 5,
   "id": "a083e2c4",
   "metadata": {},
   "outputs": [
    {
     "data": {
      "text/plain": [
       "'1.24.1'"
      ]
     },
     "execution_count": 5,
     "metadata": {},
     "output_type": "execute_result"
    }
   ],
   "source": [
    "import numpy as np\n",
    "np.__version__\n"
   ]
  },
  {
   "cell_type": "markdown",
   "id": "4116df50",
   "metadata": {},
   "source": [
    "### Simple Neuron\n",
    "Neuron computes the product of inputs and weights and add the bias to it and returns the output"
   ]
  },
  {
   "cell_type": "code",
   "execution_count": 20,
   "id": "3f9c51e3",
   "metadata": {},
   "outputs": [],
   "source": [
    "inputs = [1,2,3]\n",
    "weights = [0.2,0.8,-0.5]\n",
    "bias = 2"
   ]
  },
  {
   "cell_type": "code",
   "execution_count": 26,
   "id": "eaeb7413",
   "metadata": {},
   "outputs": [
    {
     "name": "stdout",
     "output_type": "stream",
     "text": [
      "2.3\n"
     ]
    }
   ],
   "source": [
    "output = inputs[0]*weights[0] + inputs[1]*weights[1] + inputs[2]*weights[2]\n",
    "output = output + bias\n",
    "print(output)"
   ]
  },
  {
   "cell_type": "code",
   "execution_count": 33,
   "id": "840162bf",
   "metadata": {},
   "outputs": [
    {
     "name": "stdout",
     "output_type": "stream",
     "text": [
      "2.3\n"
     ]
    }
   ],
   "source": [
    "inputs_vector = np.array(inputs)\n",
    "weights_vector = np.array(weights)\n",
    "output_vector = np.dot(inputs_vector,weights_vector) + bias\n",
    "print(output_vector)"
   ]
  },
  {
   "cell_type": "markdown",
   "id": "c8e2bdb2",
   "metadata": {},
   "source": [
    "### Single Layer\n",
    "A layer computes the product of corresponding inputs and weights and add the corresponding bias to it and returns the output containing an array of output values"
   ]
  },
  {
   "cell_type": "code",
   "execution_count": 34,
   "id": "ef02070e",
   "metadata": {},
   "outputs": [
    {
     "name": "stdout",
     "output_type": "stream",
     "text": [
      "[4.8, 1.21, 2.385]\n"
     ]
    }
   ],
   "source": [
    "inputs_vector = np.array([1,2,3,2.5])\n",
    "\n",
    "weights1_vector = np.array([0.2,0.8,-0.5,1.0])\n",
    "weights2_vector = np.array([0.5,-0.91,0.26,-0.5])\n",
    "weights3_vector = np.array([-0.26,-0.27,0.17,0.87])\n",
    "\n",
    "bias1 = 2\n",
    "bias2 = 3\n",
    "bias3 = 0.5\n",
    "\n",
    "output1_vector = np.dot(inputs_vector,weights1_vector) + bias1\n",
    "output2_vector = np.dot(inputs_vector,weights2_vector) + bias2\n",
    "output3_vector = np.dot(inputs_vector,weights3_vector) + bias3\n",
    "\n",
    "output_vector = [output1_vector,output2_vector,output3_vector]\n",
    "print(output_vector)"
   ]
  },
  {
   "cell_type": "code",
   "execution_count": null,
   "id": "705e85ef",
   "metadata": {},
   "outputs": [],
   "source": []
  }
 ],
 "metadata": {
  "kernelspec": {
   "display_name": "Python 3 (ipykernel)",
   "language": "python",
   "name": "python3"
  },
  "language_info": {
   "codemirror_mode": {
    "name": "ipython",
    "version": 3
   },
   "file_extension": ".py",
   "mimetype": "text/x-python",
   "name": "python",
   "nbconvert_exporter": "python",
   "pygments_lexer": "ipython3",
   "version": "3.11.1"
  }
 },
 "nbformat": 4,
 "nbformat_minor": 5
}
